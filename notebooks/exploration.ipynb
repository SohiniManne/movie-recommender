{
 "cells": [
  {
   "cell_type": "code",
   "execution_count": null,
   "id": "4862bb56",
   "metadata": {
    "vscode": {
     "languageId": "plaintext"
    }
   },
   "outputs": [],
   "source": [
    "# Cell 1\n",
    "import sys\n",
    "sys.path.append('../')\n",
    "\n",
    "from src.movie_recommender import IndianCinemaRecommender\n",
    "import pandas as pd\n",
    "import matplotlib.pyplot as plt\n",
    "\n",
    "# Cell 2\n",
    "# Initialize and create data\n",
    "recommender = IndianCinemaRecommender()\n",
    "recommender.create_sample_data()\n",
    "\n",
    "# Cell 3\n",
    "# Explore data\n",
    "recommender.explore_data()\n",
    "\n",
    "# Cell 4\n",
    "# Build models\n",
    "recommender.build_content_based_recommender()\n",
    "recommender.build_collaborative_filtering()\n",
    "\n",
    "# Cell 5\n",
    "# Test recommendations\n",
    "recs = recommender.get_content_recommendations('Baahubali: The Beginning', n_recommendations=5)\n",
    "recommender.print_recommendations(recs)"
   ]
  }
 ],
 "metadata": {
  "language_info": {
   "name": "python"
  }
 },
 "nbformat": 4,
 "nbformat_minor": 5
}
